{
 "cells": [
  {
   "cell_type": "markdown",
   "metadata": {
    "collapsed": true
   },
   "source": [
    "# Recursos necesarios"
   ]
  },
  {
   "cell_type": "code",
   "execution_count": 2,
   "metadata": {},
   "outputs": [],
   "source": [
    "par = []\n",
    "impar = []\n",
    "inter = []\n",
    "\n",
    "\n",
    "def f(x):\n",
    "    \"\"\"\n",
    "    Dado un punto 'x', evalua la función.\n",
    "    :param x: Punto a evaluar.\n",
    "    :return: Valor numérico de la función en el punto dado.\n",
    "    \"\"\"\n",
    "    return x/((x + 1)*(x + 2))\n",
    "\n",
    "\n",
    "def divinter(a, b, n):\n",
    "    \"\"\"\n",
    "    Dado el límite inferior y superior de un intervalo divide este en 'n' segmentos iguales.\n",
    "    :param a: Límite inferior.\n",
    "    :param b: Límite superior.\n",
    "    :param n: Cantidad de segmentos.\n",
    "    :return: None.\n",
    "    \"\"\"\n",
    "    ha = h(a, b, n)\n",
    "    inter.append(a)\n",
    "    for i in range(n):\n",
    "        inter.append(inter[len(inter) - 1] + ha)\n",
    "\n",
    "\n",
    "def h(a, b, n):\n",
    "    \"\"\"\n",
    "    Dado los valores de 'a', 'b' y 'n', evalua la función 'h'.\n",
    "    :param a: Límite inferior.\n",
    "    :param b: Límite superior\n",
    "    :param n: Cantidad de subintervalor.\n",
    "    :return: Diferencia de el superior al inferior dividido entre dos.\n",
    "    \"\"\"\n",
    "    return (b - a)/n\n",
    "\n",
    "\n",
    "def detimpar(n):\n",
    "    \"\"\"\n",
    "    Dado un número 'n', genera una lista de 'n' números impares.\n",
    "    :param n: Cantidad de números impares.\n",
    "    :return: None.\n",
    "    \"\"\"\n",
    "    impar.append(1)\n",
    "    for i in range(int(n/2) - 1):\n",
    "        impar.append(impar[len(impar) - 1] + 2)\n",
    "\n",
    "\n",
    "def detpar(n):\n",
    "    \"\"\"\n",
    "    Dado un número 'n', genera una lista de 'n' números pares.\n",
    "    :param n: Cantiadd de números pares.\n",
    "    :return: None.\n",
    "    \"\"\"\n",
    "    par.append(2)\n",
    "    for i in range(int(n/2) - 1):\n",
    "        par.append(par[len(par) - 1] + 2)\n"
   ]
  },
  {
   "cell_type": "markdown",
   "metadata": {},
   "source": [
    "# Método de Simpson simple"
   ]
  },
  {
   "cell_type": "code",
   "execution_count": 6,
   "metadata": {},
   "outputs": [],
   "source": [
    "def simpsonsimple(a, b):\n",
    "    \"\"\"\n",
    "    Método de Simpson simple\n",
    "    :param a: Límite inferior.\n",
    "    :param b: Límite superior\n",
    "    :return: Valor de la aproximación de la integral.\n",
    "    \"\"\"\n",
    "    xm = (a + b)/2\n",
    "    return (h(a, b, 2)/3)*(f(a) + 4*f(xm) + f(b))"
   ]
  },
  {
   "cell_type": "markdown",
   "metadata": {},
   "source": [
    "# Método de Simpson compuesto"
   ]
  },
  {
   "cell_type": "code",
   "execution_count": 7,
   "metadata": {},
   "outputs": [],
   "source": [
    "def simpsoncompound(a, b, n):\n",
    "    \"\"\"\n",
    "    Método de Simpson compuesto.\n",
    "    :param a: Límite inferior.\n",
    "    :param b: Límite superior\n",
    "    :param n: Cantidad de subintervalor.\n",
    "    :return: Valor de la aproximación de la integral.\n",
    "    \"\"\"\n",
    "    detimpar(n)\n",
    "    detpar(n)\n",
    "    divinter(a, b, n)\n",
    "    e = 0\n",
    "    p = 0\n",
    "    for i in range(int(n/2)):\n",
    "        e = e + f(inter[impar[i]])\n",
    "    for j in range(int(n/2) - 1):\n",
    "        p = p + f(inter[par[j]])\n",
    "    return ((h(a, b, n))/3)*(f(a) + 4*e + 2*p + f(b))"
   ]
  },
  {
   "cell_type": "markdown",
   "metadata": {},
   "source": [
    "# Resultados de la aproximación"
   ]
  },
  {
   "cell_type": "markdown",
   "metadata": {},
   "source": [
    "## Simple"
   ]
  },
  {
   "cell_type": "code",
   "execution_count": 8,
   "metadata": {},
   "outputs": [
    {
     "data": {
      "text/plain": [
       "0.11666666666666665"
      ]
     },
     "execution_count": 8,
     "metadata": {},
     "output_type": "execute_result"
    }
   ],
   "source": [
    "simpsonsimple(0, 1)"
   ]
  },
  {
   "cell_type": "markdown",
   "metadata": {},
   "source": [
    "## Compuesta"
   ]
  },
  {
   "cell_type": "code",
   "execution_count": 9,
   "metadata": {},
   "outputs": [
    {
     "data": {
      "text/plain": [
       "0.11777649339737102"
      ]
     },
     "execution_count": 9,
     "metadata": {},
     "output_type": "execute_result"
    }
   ],
   "source": [
    "simpsoncompound(0, 1, 8)"
   ]
  }
 ],
 "metadata": {
  "kernelspec": {
   "display_name": "Python 2",
   "language": "python",
   "name": "python2"
  },
  "language_info": {
   "codemirror_mode": {
    "name": "ipython",
    "version": 2
   },
   "file_extension": ".py",
   "mimetype": "text/x-python",
   "name": "python",
   "nbconvert_exporter": "python",
   "pygments_lexer": "ipython2",
   "version": "2.7.6"
  }
 },
 "nbformat": 4,
 "nbformat_minor": 0
}
